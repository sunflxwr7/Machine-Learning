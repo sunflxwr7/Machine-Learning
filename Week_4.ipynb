{
  "nbformat": 4,
  "nbformat_minor": 0,
  "metadata": {
    "colab": {
      "provenance": []
    },
    "kernelspec": {
      "name": "python3",
      "display_name": "Python 3"
    },
    "language_info": {
      "name": "python"
    }
  },
  "cells": [
    {
      "cell_type": "code",
      "execution_count": 10,
      "metadata": {
        "colab": {
          "base_uri": "https://localhost:8080/",
          "height": 827
        },
        "id": "PFOdHTfGk27n",
        "outputId": "829e7416-70f7-495d-977a-2106bec66134"
      },
      "outputs": [
        {
          "output_type": "stream",
          "name": "stdout",
          "text": [
            "Data shape: (569, 30)\n",
            "Target shape: (569,)\n",
            "Training set size: (455, 30), Target: (455,)\n",
            "Testing set size: (114, 30), Target: (114,)\n",
            "Model training complete.\n",
            "Model Accuracy: 0.9386\n",
            "Confusion Matrix:\n",
            "[[32  6]\n",
            " [ 1 75]]\n",
            "Classification Report:\n",
            "              precision    recall  f1-score   support\n",
            "\n",
            "           0       0.97      0.84      0.90        38\n",
            "           1       0.93      0.99      0.96        76\n",
            "\n",
            "    accuracy                           0.94       114\n",
            "   macro avg       0.95      0.91      0.93       114\n",
            "weighted avg       0.94      0.94      0.94       114\n",
            "\n"
          ]
        },
        {
          "output_type": "display_data",
          "data": {
            "text/plain": [
              "<Figure size 600x400 with 2 Axes>"
            ],
            "image/png": "[encoded data removed]"
          },
          "metadata": {}
        },
        {
          "output_type": "stream",
          "name": "stdout",
          "text": [
            "K-Fold Cross-Validation Mean Accuracy: 0.9385\n",
            "GaussianNB: Mean Accuracy = 0.9385\n",
            "KNeighborsClassifier: Mean Accuracy = 0.9279\n",
            "LogisticRegression: Mean Accuracy = 0.9508\n",
            "SVC: Mean Accuracy = 0.9192\n"
          ]
        }
      ],
      "source": [
        "# Import necessary libraries\n",
        "from sklearn.datasets import load_breast_cancer\n",
        "from sklearn.model_selection import train_test_split\n",
        "from sklearn.naive_bayes import GaussianNB\n",
        "import seaborn as sns\n",
        "import matplotlib.pyplot as plt\n",
        "from sklearn.model_selection import KFold, cross_val_score\n",
        "from sklearn.neighbors import KNeighborsClassifier\n",
        "from sklearn.linear_model import LogisticRegression\n",
        "from sklearn.svm import SVC\n",
        "\n",
        "# Load the dataset\n",
        "breast_cancer = load_breast_cancer()\n",
        "\n",
        "# Check the shape of the data (samples and features)\n",
        "print(f\"Data shape: {breast_cancer.data.shape}\")  # (samples, features)\n",
        "\n",
        "# Check the shape of the target (labels)\n",
        "print(f\"Target shape: {breast_cancer.target.shape}\")  # (samples,)\n",
        "\n",
        "# Splitting the dataset\n",
        "X_train, X_test, y_train, y_test = train_test_split(\n",
        "    breast_cancer.data, breast_cancer.target, test_size=0.2, random_state=11\n",
        ")\n",
        "\n",
        "# Confirm the training and testing set sizes\n",
        "print(f\"Training set size: {X_train.shape}, Target: {y_train.shape}\")\n",
        "print(f\"Testing set size: {X_test.shape}, Target: {y_test.shape}\")\n",
        "\n",
        "#Create and Train the GaussianNB Model\n",
        "nb = GaussianNB()\n",
        "nb.fit(X_train, y_train)\n",
        "print(\"Model training complete.\")\n",
        "\n",
        "#Make Predictions\n",
        "y_pred = nb.predict(X_test)\n",
        "\n",
        "#Evaluate the Model - Accuracy Score\n",
        "accuracy = nb.score(X_test, y_test)\n",
        "print(f\"Model Accuracy: {accuracy:.4f}\")\n",
        "\n",
        "#Generate Confusion Matrix\n",
        "from sklearn.metrics import confusion_matrix, classification_report\n",
        "\n",
        "conf_matrix = confusion_matrix(y_test, y_pred)\n",
        "print(\"Confusion Matrix:\")\n",
        "print(conf_matrix)\n",
        "\n",
        "#Generate Classification Report\n",
        "class_report = classification_report(y_test, y_pred)\n",
        "print(\"Classification Report:\")\n",
        "print(class_report)\n",
        "\n",
        "#Visualizing the Confusion Matrix\n",
        "plt.figure(figsize=(6, 4))\n",
        "sns.heatmap(conf_matrix, annot=True, fmt=\"d\", cmap=\"Blues\", xticklabels=['Benign', 'Malignant'], yticklabels=['Benign', 'Malignant'])\n",
        "plt.xlabel(\"Predicted Label\")\n",
        "plt.ylabel(\"True Label\")\n",
        "plt.title(\"Confusion Matrix Heatmap\")\n",
        "plt.show()\n",
        "\n",
        "#K-Fold Cross-Validation\n",
        "kfold = KFold(n_splits=10, random_state=11, shuffle=True)\n",
        "cv_scores = cross_val_score(estimator=nb, X=breast_cancer.data, y=breast_cancer.target, cv=kfold)\n",
        "\n",
        "# Display mean accuracy across all folds\n",
        "print(f\"K-Fold Cross-Validation Mean Accuracy: {cv_scores.mean():.4f}\")\n",
        "\n",
        "#Running Multiple Models to Find the Best One\n",
        "estimators = {\n",
        "    'GaussianNB': nb,\n",
        "    'KNeighborsClassifier': KNeighborsClassifier(),\n",
        "    #'LogisticRegression': LogisticRegression(solver='lbfgs', multi_class='ovr', max_iter=10000),\n",
        "    'LogisticRegression': LogisticRegression(solver='lbfgs', max_iter=10000),\n",
        "    'SVC': SVC(gamma='scale')\n",
        "}\n",
        "\n",
        "#Perform K-Fold Cross-Validation for each model\n",
        "for name, model in estimators.items():\n",
        "    scores = cross_val_score(estimator=model, X=breast_cancer.data, y=breast_cancer.target, cv=kfold)\n",
        "    print(f\"{name}: Mean Accuracy = {scores.mean():.4f}\")"
      ]
    }
  ]
}